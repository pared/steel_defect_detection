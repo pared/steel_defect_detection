{
 "cells": [
  {
   "cell_type": "code",
   "execution_count": null,
   "metadata": {},
   "outputs": [],
   "source": [
    "from src.data import Data\n",
    "import matplotlib.pyplot as plt\n",
    "%matplotlib inline\n",
    "data = Data()"
   ]
  },
  {
   "cell_type": "markdown",
   "metadata": {},
   "source": [
    "## Get multiple defects of one class to single output, maybe there is some regularity to observe"
   ]
  },
  {
   "cell_type": "code",
   "execution_count": null,
   "metadata": {},
   "outputs": [],
   "source": [
    "import random\n",
    "def get_masks_random(data, defect_id, masks_num=10):\n",
    "    names = data.image_names\n",
    "    random.shuffle(names)\n",
    "    \n",
    "    result = []\n",
    "    for name in names:\n",
    "        defects = data.get_image_annotations(name)\n",
    "        if defects[defect_id]:\n",
    "            result.append(data.get_defects_masks(name)[defect_id])\n",
    "            if len(result) >= masks_num:\n",
    "                return result\n",
    "    return result"
   ]
  },
  {
   "cell_type": "code",
   "execution_count": null,
   "metadata": {},
   "outputs": [],
   "source": [
    "def plot(images, cols=1):\n",
    "    const=10\n",
    "    rows = len(images) // cols + 1\n",
    "    fig = plt.figure(figsize=(cols*const,rows*const / (1600//256)))\n",
    "    for i, image in enumerate(images):\n",
    "        a = fig.add_subplot(rows, cols, i+1)\n",
    "        plt.axis(\"off\")\n",
    "        plt.imshow(image)\n",
    "    plt.show()\n",
    "    \n",
    "def plot_with_defects(names, data):\n",
    "    for name in names:\n",
    "        img = data.load_image(name)\n",
    "        masks = data.get_defects_masks(name)\n",
    "        \n",
    "        imgs = [mask for mask in list(masks.values()) if mask is not None]\n",
    "        imgs += [img]\n",
    "        \n",
    "        plot(imgs, 2)\n",
    "\n",
    "def find_problematic(data):\n",
    "    names = data.image_names\n",
    "    result = []\n",
    "    for nam in names:\n",
    "        try:\n",
    "            data.get_defects_masks(nam)\n",
    "        except Exception:\n",
    "            result.append(nam)\n",
    "    return result\n",
    "\n",
    "failing_bitmaps = ['709ee2497.jpg',\n",
    "                   '12c0b2b5c.jpg',\n",
    "                   'faa1000af.jpg',\n",
    "                   '14ff2a474.jpg',\n",
    "                   '4f1f6dee0.jpg',\n",
    "                   'b023d90ff.jpg',\n",
    "                   'eb44ad79d.jpg',\n",
    "                   '7b08e8584.jpg']\n",
    "\n",
    "plot_with_defects(failing_bitmaps, data)\n"
   ]
  },
  {
   "cell_type": "code",
   "execution_count": null,
   "metadata": {},
   "outputs": [],
   "source": [
    "plot(maps)"
   ]
  }
 ],
 "metadata": {
  "kernelspec": {
   "display_name": "Python 2",
   "language": "python",
   "name": "python2"
  },
  "language_info": {
   "codemirror_mode": {
    "name": "ipython",
    "version": 3
   },
   "file_extension": ".py",
   "mimetype": "text/x-python",
   "name": "python",
   "nbconvert_exporter": "python",
   "pygments_lexer": "ipython3",
   "version": "3.6.8"
  }
 },
 "nbformat": 4,
 "nbformat_minor": 2
}
