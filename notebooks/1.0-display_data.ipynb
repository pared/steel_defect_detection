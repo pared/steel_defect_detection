{
 "cells": [
  {
   "cell_type": "code",
   "execution_count": null,
   "metadata": {},
   "outputs": [],
   "source": [
    "from pathlib import Path\n",
    "import os\n",
    "DATA_PATH = Path(os.getcwd()).parent / \"data\" / \"interim\""
   ]
  },
  {
   "cell_type": "code",
   "execution_count": null,
   "metadata": {},
   "outputs": [],
   "source": [
    "import pandas\n",
    "\n",
    "DEFECTS_ENCODING_PATH = DATA_PATH / \"train.csv\"\n",
    "TRAINING_IMAGES_PATH = DATA_PATH / \"train_images\"\n",
    "\n",
    "defects = pandas.read_csv(DEFECTS_ENCODING_PATH);\n",
    "all_images_names = os.listdir(TRAINING_IMAGES_PATH)\n",
    "print(defects.columns)\n",
    "defects.head(6)"
   ]
  },
  {
   "cell_type": "code",
   "execution_count": null,
   "metadata": {},
   "outputs": [],
   "source": [
    "import cv2, matplotlib.pyplot as plt, numpy as np\n",
    "\n",
    "def load_image(name):\n",
    "    image_path = TRAINING_IMAGES_PATH / name\n",
    "    img = cv2.imread(str(image_path))\n",
    "    return img\n",
    "\n",
    "def get_image_defects(image_name, defects):\n",
    "    image_rows = defects[defects['ImageId_ClassId'].str.startswith(image_name)]\n",
    "    # NOTE there are 4 defects types, there MUST be 4 rows\n",
    "    assert len(image_rows) == 4\n",
    "    \n",
    "    result = {}\n",
    "    for name, defect_encoding in image_rows.values:\n",
    "        key = int(name.split('_')[1])\n",
    "        if defect_encoding is np.nan:\n",
    "            defect_encoding = None\n",
    "        else:\n",
    "            defect_encoding = [int(e) for e in defect_encoding.split(\" \")]\n",
    "        result[key] = defect_encoding\n",
    "    return result\n",
    "\n",
    "def convert_defects_to_bitmaps(image, defect_map):\n",
    "    #converts defect map to equivalent map, but values are masks of image size, where 1's are defects of key class\n",
    "    assert len(defect_map) == 4\n",
    "    result = {}\n",
    "    \n",
    "    im_h, im_w, channels = image.shape\n",
    "    for defect_id, encoded_mask in defect_map.items():  \n",
    "        if encoded_mask:\n",
    "            bitmap_flat = np.zeros(im_w*im_h)\n",
    "            for i in range(0, len(encoded_mask), 2):\n",
    "                start_index = encoded_mask[i]\n",
    "               \n",
    "                num_ones = encoded_mask[i+1]\n",
    "            \n",
    "                for j in range(start_index, start_index + num_ones):\n",
    "                    bitmap_flat[j] = 1\n",
    "            # NOTE ordering of pixels in encoding is top -> down, then left -> right, hence 'F'\n",
    "            bitmap = np.reshape(bitmap_flat, (im_h, im_w), order='F')\n",
    "            result[defect_id] = bitmap\n",
    "        else:\n",
    "            result[defect_id] = None\n",
    "            \n",
    "    return result\n",
    "\n",
    "def get_sample(image_names, defects, defect_id):\n",
    "    for i_n in image_names:\n",
    "        i_defects = get_image_defects(i_n, defects)\n",
    "        if i_defects[defect_id]:\n",
    "            i = load_image(i_n)\n",
    "            return i, convert_defects_to_bitmaps(i, i_defects)[defect_id]\n",
    "        \n",
    "img, bmp = get_sample(all_images_names, defects, 4)\n",
    "plt.figure(figsize=(20,20))\n",
    "plt.imshow(bmp)\n",
    "plt.figure(figsize=(20,20))\n",
    "plt.imshow(img)"
   ]
  }
 ],
 "metadata": {
  "kernelspec": {
   "display_name": "Python 3",
   "language": "python",
   "name": "python3"
  },
  "language_info": {
   "codemirror_mode": {
    "name": "ipython",
    "version": 3
   },
   "file_extension": ".py",
   "mimetype": "text/x-python",
   "name": "python",
   "nbconvert_exporter": "python",
   "pygments_lexer": "ipython3",
   "version": "3.6.8"
  }
 },
 "nbformat": 4,
 "nbformat_minor": 2
}
