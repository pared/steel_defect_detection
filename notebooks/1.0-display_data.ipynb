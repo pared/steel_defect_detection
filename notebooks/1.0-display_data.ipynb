{
 "cells": [
  {
   "cell_type": "code",
   "execution_count": null,
   "metadata": {},
   "outputs": [],
   "source": [
    "from src.data import Data\n",
    "import matplotlib.pyplot as plt\n",
    "%matplotlib inline\n",
    "data = Data()"
   ]
  },
  {
   "cell_type": "code",
   "execution_count": null,
   "metadata": {},
   "outputs": [],
   "source": [
    "def get_sample(data, defect_id):\n",
    "    for i_n in data.image_names:\n",
    "        i_defects = data.get_image_annotations(i_n)\n",
    "        if i_defects[defect_id]:\n",
    "            image = data.load_image(i_n)\n",
    "            mask = data.get_defects_masks(i_n)[defect_id]\n",
    "            return image, mask\n",
    "        \n",
    "img, bmp = get_sample(data, 4)\n",
    "print(img.shape)\n",
    "plt.figure(figsize=(20,20))\n",
    "plt.imshow(bmp)\n",
    "plt.figure(figsize=(20,20))\n",
    "plt.imshow(img)"
   ]
  }
 ],
 "metadata": {
  "kernelspec": {
   "display_name": "Python 3",
   "language": "python",
   "name": "python3"
  },
  "language_info": {
   "codemirror_mode": {
    "name": "ipython",
    "version": 3
   },
   "file_extension": ".py",
   "mimetype": "text/x-python",
   "name": "python",
   "nbconvert_exporter": "python",
   "pygments_lexer": "ipython3",
   "version": "3.6.8"
  }
 },
 "nbformat": 4,
 "nbformat_minor": 2
}
